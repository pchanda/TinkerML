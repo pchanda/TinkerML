{
 "cells": [
  {
   "cell_type": "code",
   "execution_count": 28,
   "metadata": {},
   "outputs": [
    {
     "name": "stdout",
     "output_type": "stream",
     "text": [
      "protein len =  816\n",
      "\n",
      "Mapping dictionary:\n",
      "A [0. 1. 0. 0. 0. 0. 0. 0. 0. 0. 0. 0. 0. 0. 0. 0. 0. 0. 0. 0.]\n",
      "C [0. 0. 0. 0. 0. 0. 0. 0. 0. 0. 0. 0. 0. 0. 0. 0. 0. 0. 1. 0.]\n",
      "E [0. 0. 0. 0. 0. 0. 0. 0. 0. 0. 0. 0. 0. 0. 1. 0. 0. 0. 0. 0.]\n",
      "D [0. 0. 0. 0. 0. 0. 0. 0. 0. 0. 0. 1. 0. 0. 0. 0. 0. 0. 0. 0.]\n",
      "G [0. 0. 0. 0. 0. 0. 0. 0. 0. 0. 0. 0. 0. 1. 0. 0. 0. 0. 0. 0.]\n",
      "F [0. 0. 0. 0. 0. 0. 0. 0. 0. 1. 0. 0. 0. 0. 0. 0. 0. 0. 0. 0.]\n",
      "I [0. 0. 0. 0. 0. 0. 0. 0. 0. 0. 1. 0. 0. 0. 0. 0. 0. 0. 0. 0.]\n",
      "H [0. 0. 0. 0. 0. 0. 0. 0. 0. 0. 0. 0. 0. 0. 0. 0. 0. 1. 0. 0.]\n",
      "K [0. 0. 0. 0. 1. 0. 0. 0. 0. 0. 0. 0. 0. 0. 0. 0. 0. 0. 0. 0.]\n",
      "M [1. 0. 0. 0. 0. 0. 0. 0. 0. 0. 0. 0. 0. 0. 0. 0. 0. 0. 0. 0.]\n",
      "L [0. 0. 0. 0. 0. 1. 0. 0. 0. 0. 0. 0. 0. 0. 0. 0. 0. 0. 0. 0.]\n",
      "N [0. 0. 1. 0. 0. 0. 0. 0. 0. 0. 0. 0. 0. 0. 0. 0. 0. 0. 0. 0.]\n",
      "Q [0. 0. 0. 0. 0. 0. 0. 0. 0. 0. 0. 0. 0. 0. 0. 1. 0. 0. 0. 0.]\n",
      "P [0. 0. 0. 0. 0. 0. 0. 1. 0. 0. 0. 0. 0. 0. 0. 0. 0. 0. 0. 0.]\n",
      "S [0. 0. 0. 0. 0. 0. 0. 0. 1. 0. 0. 0. 0. 0. 0. 0. 0. 0. 0. 0.]\n",
      "R [0. 0. 0. 0. 0. 0. 1. 0. 0. 0. 0. 0. 0. 0. 0. 0. 0. 0. 0. 0.]\n",
      "T [0. 0. 0. 1. 0. 0. 0. 0. 0. 0. 0. 0. 0. 0. 0. 0. 0. 0. 0. 0.]\n",
      "W [0. 0. 0. 0. 0. 0. 0. 0. 0. 0. 0. 0. 0. 0. 0. 0. 0. 0. 0. 1.]\n",
      "V [0. 0. 0. 0. 0. 0. 0. 0. 0. 0. 0. 0. 0. 0. 0. 0. 1. 0. 0. 0.]\n",
      "Y [0. 0. 0. 0. 0. 0. 0. 0. 0. 0. 0. 0. 1. 0. 0. 0. 0. 0. 0. 0.]\n"
     ]
    }
   ],
   "source": [
    "from __future__ import absolute_import\n",
    "from __future__ import division\n",
    "from __future__ import print_function\n",
    "import os\n",
    "import numpy as np\n",
    "import itertools\n",
    "\n",
    "# generate elements of the sequence\n",
    "def element(seq_list):\n",
    "    list_ = []\n",
    "    for s in seq_list:\n",
    "        if s not in list_:\n",
    "            list_.append(s)\n",
    "    return list_\n",
    "\n",
    "# generate mapping dictionary\n",
    "def combination(elements, seq_length):\n",
    "    keys = map(''.join, itertools.product(elements, repeat=seq_length))\n",
    "    n_word = len(keys)\n",
    "    array_word = np.eye(n_word)\n",
    "    mapping_dic = {}\n",
    "    for i in range(n_word):\n",
    "        mapping_dic[keys[i]] = array_word[i,:]\n",
    "    return mapping_dic\n",
    "\n",
    "def hilbert_curve(n):\n",
    "    # recursion base\n",
    "    if n == 1:\n",
    "        return np.zeros((1, 1), np.int32)\n",
    "    # make (n/2, n/2) index\n",
    "    t = hilbert_curve(n // 2)\n",
    "    # flip it four times and add index offsets\n",
    "    a = np.flipud(np.rot90(t))\n",
    "    b = t + t.size\n",
    "    c = t + t.size * 2\n",
    "    d = np.flipud(np.rot90(t, -1)) + t.size * 3\n",
    "    # and stack four tiles into resulting array\n",
    "    return np.vstack(map(np.hstack, [[a, b], [d, c]]))\n",
    "\n",
    "\n",
    "#one hot encoding\n",
    "def one_hot(sequence, sub_len, mapping_dic):\n",
    "    n_ = len(sequence)\n",
    "    sub_list = []\n",
    "    for i in range(n_ - sub_len + 1):\n",
    "        sub_list.append(sequence[i:i + sub_len])\n",
    "    res_ = []\n",
    "    for sub in sub_list:\n",
    "        res_.append(mapping_dic[sub])\n",
    "    return np.array(res_)\n",
    "\n",
    "#assign each pixel a one-hot encoding.\n",
    "def plot_hb_dna(seq, H_curve, sub_length,map_dic):\n",
    "    r, c = H_curve.shape\n",
    "    num_A = one_hot(seq, sub_length, map_dic)\n",
    "    H_dna = np.zeros((r, c, 20 ** sub_length))\n",
    "    for i in range(len(num_A)):\n",
    "        x, y = np.where(H_curve == i)\n",
    "        H_dna[x, y, :] = num_A[i, :]\n",
    "    return H_dna\n",
    "\n",
    "#assign each pixel a 1 to check if all 1-mers are present in the image.\n",
    "def plot_hb_dna_check(seq, H_curve, sub_length,map_dic):\n",
    "    r, c = H_curve.shape\n",
    "    num_A = one_hot(seq, sub_length, map_dic)\n",
    "    H_dna = np.zeros((r,c))\n",
    "    for i in range(len(num_A)):\n",
    "        x, y = np.where(H_curve == i)\n",
    "        H_dna[x,y] = 1\n",
    "    return H_dna\n",
    "\n",
    "#input protein.\n",
    "protein_seq = 'MANMNNTKLNARALPSFIDYFNGIYGFATGIKDIMNMIFKTDTGGNLTLDEILKNQQLLNMMNNPPAARRYYFFEISGKLDGVNGSLNDLIAQGNLNTELSKEILKIANEQNQVLNDVNNKLDAINTMLHIYLPKITSMLSDVMKQNYALSLQVEYLSKQLKEISDKLDVINVNVLINSTLTEITPAYQRIKYVNEKFEELTFATETTLKVKKDSSPADILDELTELTELARSVTRNDMESFEFYIKTFHDVMIGNNLFSRSALKTASELIAKENIHTRGSEIGNVYTFMIVLTSLQAKAFLTLTTCRKLLGLADIDYTQIMNENLDREKEEFRLNILPTLSNDFSNPNYTETLGSDLVDPIVTLEAEPGYALIGFEILNDPLPVLKVFQAKLKQNYQVDKESIMENIYGNIHKLLCPKQREQKYYIKDITFPEGYVITKIVFEKKLNLLGYEVTANLYDPFTGSIDLNKTILESWKEDCCEEDCCEEDCCEENCCEEDYIKLMPLGVISETFLTPIYSFKLIIDKKTKKISLAGKSYLRESLLATDLVNKETNLIPSPNGFISSIVQTWHITSDNIEPWEANNKNAYVDKTDTMVGFSSLYTHKDGEFLQFIGAKLKPKTEYVIQYTVKGKPSIHLKDENTGYILYEDTNNDLEDFQTITKRFTTGTDLMRVYLILKSQSGHEAWGDNFTILEIKPAEALVSPELINPNSWITTQGASISGDKLFISLGTNGTFRQNLSLNSYSTYSISFTASGPFNVTVRNSREVLYERNNLMSSTSHISGEFKTESNNTGLYVELSRRSGGAGHISFENISIK'\n",
    "print('protein len = ',len(protein_seq))\n",
    "\n",
    "#20 amino acids\n",
    "elements= ['M', 'A', 'N', 'T', 'K', 'L', 'R', 'P', 'S', 'F', 'I', 'D', 'Y', 'G', 'E', 'Q', 'V', 'H', 'C', 'W']\n",
    "\n",
    "#choose kmer size = 1. So each one-hot encoding will be of len 20.  \n",
    "sub_length = 1 #k-mer size.\n",
    "mapping_dic = combination(elements, sub_length)\n",
    "\n",
    "print('\\nMapping dictionary:')\n",
    "#each 1-mer and its encodings\n",
    "for k,v in mapping_dic.iteritems():\n",
    "    print(k,v)"
   ]
  },
  {
   "cell_type": "code",
   "execution_count": 30,
   "metadata": {},
   "outputs": [
    {
     "name": "stdout",
     "output_type": "stream",
     "text": [
      "Hilbert matrix=\n",
      " [[   0    1   14 ...  339  340  341]\n",
      " [   3    2   13 ...  338  343  342]\n",
      " [   4    7    8 ...  349  344  345]\n",
      " ...\n",
      " [1019 1016 1015 ...  674  679  678]\n",
      " [1020 1021 1010 ...  685  680  681]\n",
      " [1023 1022 1009 ...  684  683  682]]\n"
     ]
    }
   ],
   "source": [
    "# The Hilbert curve yields a square image of size 2^n × 2^n = 2^(2n), where n is the order of the curve.\n",
    "# Choose order of Hilbert curve to accommodate all the k-mers in the image. \n",
    "# The count of kmers is roughly the length of the protein sequence.\n",
    "# So for protein of length 816, we choose order = 5. Then Hilber image size = 2^(10) = 1024 >= 800\n",
    "# Each pixel in the Hilber image will be one-hot encoding of a k-mer.\n",
    "# In our case, k=1, so each pixel is one-hot encoded of len = 20. \n",
    "# So final image size : 32 x 32 x 20.\n",
    "\n",
    "order = 32\n",
    "\n",
    "H = hilbert_curve(order)\n",
    "\n",
    "print('Hilbert matrix=\\n',H)\n",
    "\n",
    "X = plot_hb_dna_check(seq=protein_seq, H_curve=H, sub_length=sub_length, map_dic=mapping_dic)\n",
    "\n",
    "seq_image = plot_hb_dna(seq=protein_seq, H_curve=H, sub_length=sub_length, map_dic=mapping_dic)"
   ]
  },
  {
   "cell_type": "code",
   "execution_count": 21,
   "metadata": {},
   "outputs": [
    {
     "name": "stdout",
     "output_type": "stream",
     "text": [
      "1,1,1,1,1,1,1,1,1,1,1,1,1,1,1,1,1,1,1,1,1,1,1,1,1,1,1,1,1,1,1,1\n",
      "1,1,1,1,1,1,1,1,1,1,1,1,1,1,1,1,1,1,1,1,1,1,1,1,1,1,1,1,1,1,1,1\n",
      "1,1,1,1,1,1,1,1,1,1,1,1,1,1,1,1,1,1,1,1,1,1,1,1,1,1,1,1,1,1,1,1\n",
      "1,1,1,1,1,1,1,1,1,1,1,1,1,1,1,1,1,1,1,1,1,1,1,1,1,1,1,1,1,1,1,1\n",
      "1,1,1,1,1,1,1,1,1,1,1,1,1,1,1,1,1,1,1,1,1,1,1,1,1,1,1,1,1,1,1,1\n",
      "1,1,1,1,1,1,1,1,1,1,1,1,1,1,1,1,1,1,1,1,1,1,1,1,1,1,1,1,1,1,1,1\n",
      "1,1,1,1,1,1,1,1,1,1,1,1,1,1,1,1,1,1,1,1,1,1,1,1,1,1,1,1,1,1,1,1\n",
      "1,1,1,1,1,1,1,1,1,1,1,1,1,1,1,1,1,1,1,1,1,1,1,1,1,1,1,1,1,1,1,1\n",
      "1,1,1,1,1,1,1,1,1,1,1,1,1,1,1,1,1,1,1,1,1,1,1,1,1,1,1,1,1,1,1,1\n",
      "1,1,1,1,1,1,1,1,1,1,1,1,1,1,1,1,1,1,1,1,1,1,1,1,1,1,1,1,1,1,1,1\n",
      "1,1,1,1,1,1,1,1,1,1,1,1,1,1,1,1,1,1,1,1,1,1,1,1,1,1,1,1,1,1,1,1\n",
      "1,1,1,1,1,1,1,1,1,1,1,1,1,1,1,1,1,1,1,1,1,1,1,1,1,1,1,1,1,1,1,1\n",
      "1,1,1,1,1,1,1,1,1,1,1,1,1,1,1,1,1,1,1,1,1,1,1,1,1,1,1,1,1,1,1,1\n",
      "1,1,1,1,1,1,1,1,1,1,1,1,1,1,1,1,1,1,1,1,1,1,1,1,1,1,1,1,1,1,1,1\n",
      "1,1,1,1,1,1,1,1,1,1,1,1,1,1,1,1,1,1,1,1,1,1,1,1,1,1,1,1,1,1,1,1\n",
      "1,1,1,1,1,1,1,1,1,1,1,1,1,1,1,1,1,1,1,1,1,1,1,1,1,1,1,1,1,1,1,1\n",
      "0,0,0,0,0,0,0,0,0,0,0,0,0,0,0,0,1,1,1,1,1,1,1,1,1,1,1,1,1,1,1,1\n",
      "0,0,0,0,0,0,0,0,0,0,0,0,0,0,0,0,1,1,1,1,1,1,1,1,1,1,1,1,1,1,1,1\n",
      "0,0,0,0,0,0,0,0,0,0,0,0,0,0,0,0,1,1,1,1,1,1,1,1,1,1,1,1,1,1,1,1\n",
      "0,0,0,0,0,0,0,0,0,0,0,0,0,0,0,0,1,1,1,1,1,1,1,1,1,1,1,1,1,1,1,1\n",
      "0,0,0,0,0,0,0,0,0,0,0,0,0,0,0,0,1,1,1,1,1,1,1,1,1,1,1,1,1,1,1,1\n",
      "0,0,0,0,0,0,0,0,0,0,0,0,0,0,0,0,1,1,1,1,1,1,1,1,1,1,1,1,1,1,1,1\n",
      "0,0,0,0,0,0,0,0,0,0,0,0,0,0,0,0,1,1,1,1,1,1,1,1,1,1,1,1,1,1,1,1\n",
      "0,0,0,0,0,0,0,0,0,0,0,0,0,0,0,0,1,1,1,1,1,1,1,1,1,1,1,1,1,1,1,1\n",
      "0,0,0,0,0,0,0,0,1,1,1,1,0,0,0,0,1,1,1,1,1,1,1,1,1,1,1,1,1,1,1,1\n",
      "0,0,0,0,0,0,0,0,1,1,1,1,0,0,0,0,1,1,1,1,1,1,1,1,1,1,1,1,1,1,1,1\n",
      "0,0,0,0,0,0,0,0,1,1,1,1,0,0,0,0,1,1,1,1,1,1,1,1,1,1,1,1,1,1,1,1\n",
      "0,0,0,0,0,0,0,0,1,1,1,1,0,0,0,0,1,1,1,1,1,1,1,1,1,1,1,1,1,1,1,1\n",
      "0,0,0,0,0,0,0,0,1,1,1,1,1,1,1,1,1,1,1,1,1,1,1,1,1,1,1,1,1,1,1,1\n",
      "0,0,0,0,0,0,0,0,1,1,1,1,1,1,1,1,1,1,1,1,1,1,1,1,1,1,1,1,1,1,1,1\n",
      "0,0,0,0,0,0,0,0,1,1,1,1,1,1,1,1,1,1,1,1,1,1,1,1,1,1,1,1,1,1,1,1\n",
      "0,0,0,0,0,0,0,0,1,1,1,1,1,1,1,1,1,1,1,1,1,1,1,1,1,1,1,1,1,1,1,1\n",
      "Total no of 1's = 816.0\n"
     ]
    }
   ],
   "source": [
    "#check if all 1-mers in the sequence are assigned to the image.\n",
    "z = 0\n",
    "for r in range(len(X)):\n",
    "    z += sum(X[r,:])\n",
    "    print(','.join([str(int(x))for x in X[r,:]]))\n",
    "print(\"Total no of 1's =\",z) #should be same as the protein seq len to ensure all 1-mers are in the image."
   ]
  },
  {
   "cell_type": "code",
   "execution_count": 31,
   "metadata": {},
   "outputs": [
    {
     "name": "stdout",
     "output_type": "stream",
     "text": [
      "Final image shape:\n",
      "(32, 32, 20)\n"
     ]
    }
   ],
   "source": [
    "print('Final image shape:')\n",
    "print(seq_image.shape)"
   ]
  }
 ],
 "metadata": {
  "kernelspec": {
   "display_name": "Python 2",
   "language": "python",
   "name": "python2"
  },
  "language_info": {
   "codemirror_mode": {
    "name": "ipython",
    "version": 2
   },
   "file_extension": ".py",
   "mimetype": "text/x-python",
   "name": "python",
   "nbconvert_exporter": "python",
   "pygments_lexer": "ipython2",
   "version": "2.7.12"
  }
 },
 "nbformat": 4,
 "nbformat_minor": 2
}
