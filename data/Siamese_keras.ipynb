{
 "cells": [
  {
   "cell_type": "markdown",
   "metadata": {},
   "source": [
    "# Siamese network in keras to detect pairs of scatter plots that are similar."
   ]
  },
  {
   "cell_type": "code",
   "execution_count": 1,
   "metadata": {
    "scrolled": false
   },
   "outputs": [],
   "source": [
    "import numpy as np\n",
    "import os\n",
    "\n",
    "import glob\n",
    "import random \n",
    "\n",
    "from PIL import Image\n",
    "\n",
    "from tensorflow.keras.models import Model\n",
    "from tensorflow.keras.layers import Input\n",
    "from tensorflow.keras.layers import Conv2D\n",
    "from tensorflow.keras.layers import Dense\n",
    "from tensorflow.keras.layers import Dropout\n",
    "from tensorflow.keras.layers import GlobalAveragePooling2D\n",
    "from tensorflow.keras.layers import MaxPooling2D\n",
    "from tensorflow.keras.layers import Lambda\n",
    "from tensorflow.keras.layers import Flatten, BatchNormalization\n",
    "import tensorflow as tf\n",
    "import tensorflow.keras.backend as K\n",
    "import matplotlib.pyplot as plt\n",
    "\n",
    "from tensorflow.keras.optimizers import Nadam\n",
    "from tensorflow.keras.optimizers import Adam"
   ]
  },
  {
   "cell_type": "code",
   "execution_count": 2,
   "metadata": {
    "scrolled": false
   },
   "outputs": [],
   "source": [
    "POS_LABEL = 0 # Pair of plots that match\n",
    "NEG_LABEL = 1 # Pair of plots that do not match\n",
    "#If you reverse the labels, you have to change the Contrastive Loss function.\n",
    "SZ = 128\n",
    "MARGIN = 5.0"
   ]
  },
  {
   "cell_type": "markdown",
   "metadata": {},
   "source": [
    "## Siamese Model"
   ]
  },
  {
   "cell_type": "code",
   "execution_count": 3,
   "metadata": {
    "scrolled": false
   },
   "outputs": [],
   "source": [
    "def feature_extract(inputShape):\n",
    "    \n",
    "    inputs = Input(inputShape)\n",
    "    \n",
    "    x = Conv2D(4, (3, 3), padding=\"same\", activation=\"relu\")(inputs)\n",
    "    x = BatchNormalization()(x)\n",
    "    \n",
    "    x = Conv2D(8, (3, 3), padding=\"same\", activation=\"relu\")(inputs)\n",
    "    x = BatchNormalization()(x)\n",
    "    \n",
    "    x = Conv2D(8, (3, 3), padding=\"same\", activation=\"relu\")(inputs)\n",
    "    x = BatchNormalization()(x)\n",
    "    \n",
    "    x = Flatten()(x)\n",
    "    \n",
    "    x = Dense(500, activation=\"relu\")(x)\n",
    "    x = Dense(500, activation=\"relu\")(x)\n",
    "    outputs = Dense(5)(x)\n",
    "    \n",
    "    return Model(inputs, outputs,name='sister_network')\n",
    "    return model\n",
    "\n",
    "\n",
    "def euclidean_distance(vectors):\n",
    "    (featsA, featsB) = vectors\n",
    "    sumSquared = K.sum(K.square(featsA - featsB), axis=1, keepdims=True)\n",
    "    return K.sqrt(K.maximum(sumSquared, K.epsilon()))\n",
    "\n",
    "def contrastive_loss(y,preds):\n",
    "    y = tf.cast(y, preds.dtype)\n",
    "    squaredPreds = K.square(preds)\n",
    "    squaredMargin = K.square(K.maximum(MARGIN - preds, 0.0))\n",
    "    loss = K.mean((1-y) * squaredPreds + y * squaredMargin)\n",
    "    return loss"
   ]
  },
  {
   "cell_type": "markdown",
   "metadata": {},
   "source": [
    "## Make pairs of images for training and testing"
   ]
  },
  {
   "cell_type": "code",
   "execution_count": 4,
   "metadata": {
    "scrolled": false
   },
   "outputs": [
    {
     "name": "stdout",
     "output_type": "stream",
     "text": [
      "Got  200 positive_pairs\n",
      "Got  200 negative_pairs\n",
      "Loading data size 400\n",
      "(400, 2, 128, 128, 1) (400, 1)\n"
     ]
    }
   ],
   "source": [
    "def get_positive_pairs(path='./mol_data/*'): #both images of same digit\n",
    "    positive_pairs = []\n",
    "    all_fam_dirs = glob.glob(path)\n",
    "    for famdir in all_fam_dirs:\n",
    "        mol_files = glob.glob(famdir+'/*.png')\n",
    "        for ff1 in mol_files:\n",
    "            for ff2 in mol_files:\n",
    "                if ff1 < ff2:\n",
    "                    positive_pairs.append((ff1,ff2))\n",
    "    return positive_pairs\n",
    "\n",
    "\n",
    "def get_negative_pairs(path='./mol_data/*',cnt=100): #images are from different digits\n",
    "    negative_pairs = []\n",
    "    all_fam_dirs = glob.glob(path)\n",
    "    random.shuffle(all_fam_dirs)\n",
    "    all_fam_dirs_rev = all_fam_dirs[::-1] #reversed\n",
    "    for famdir1,famdir2 in zip(all_fam_dirs,all_fam_dirs_rev):\n",
    "        if famdir1!=famdir2:\n",
    "            mol_files_1 = glob.glob(famdir1+'/*.png')\n",
    "            mol_files_2 = glob.glob(famdir2+'/*.png')\n",
    "            for ff1 in mol_files_1:\n",
    "                for ff2 in mol_files_2:\n",
    "                    negative_pairs.append((ff1,ff2))\n",
    "        if len(negative_pairs) >= cnt:\n",
    "            break\n",
    "            \n",
    "    return negative_pairs\n",
    "\n",
    "\n",
    "def read_img(img_path):\n",
    "    img = Image.open(img_path)\n",
    "    img = img.convert('L')\n",
    "    img = img.resize((SZ,SZ))\n",
    "    img = np.asarray(img,dtype=np.float32)/255.0\n",
    "    return img\n",
    "\n",
    "def build_paired_data(path,shuffle):\n",
    "    positive_pairs = get_positive_pairs(path) \n",
    "    negative_pairs = get_negative_pairs(path,len(positive_pairs))\n",
    "    \n",
    "    print('Got ',len(positive_pairs),'positive_pairs')\n",
    "    print('Got ',len(negative_pairs),'negative_pairs')\n",
    "    \n",
    "    if shuffle:\n",
    "        random.shuffle(positive_pairs)\n",
    "        random.shuffle(negative_pairs)\n",
    "        \n",
    "    positive_labels = [POS_LABEL]*len(positive_pairs)\n",
    "    negative_labels = [NEG_LABEL]*len(negative_pairs)\n",
    "\n",
    "    all_pairs = positive_pairs + negative_pairs\n",
    "    all_labels = positive_labels + negative_labels\n",
    " \n",
    "    data = list(zip(all_pairs,all_labels))\n",
    "    random.shuffle(data)\n",
    "    print('Loading data size',len(data))\n",
    "    \n",
    "    pairImages = []\n",
    "    pairLabels = []\n",
    "    pairNames = []\n",
    "\n",
    "    for image_pair,label in data:\n",
    "        img0 = read_img(image_pair[0])\n",
    "        img1 = read_img(image_pair[1])\n",
    "        \n",
    "        pairImages.append([img0,img1])\n",
    "        pairLabels.append([label]) #very important to have labels as shape `batch_size` x 1   \n",
    "        pairNames.append([image_pair[0],image_pair[1]])\n",
    "        \n",
    "    return np.expand_dims(np.array(pairImages),axis=-1), np.array(pairLabels), np.array(pairNames)\n",
    "\n",
    "\n",
    "pairData, labelData, pairNames = build_paired_data('./mol_data/*',True)\n",
    "print(pairData.shape, labelData.shape)"
   ]
  },
  {
   "cell_type": "markdown",
   "metadata": {},
   "source": [
    "## Compute prediction accuracy"
   ]
  },
  {
   "cell_type": "code",
   "execution_count": 5,
   "metadata": {
    "scrolled": false
   },
   "outputs": [],
   "source": [
    "def get_accuracy(model,ImgArr0,ImgArr1,labelArr):\n",
    "    PP = model.predict_on_batch([ImgArr0, ImgArr1])\n",
    "    preds = (PP > MARGIN).astype(int)\n",
    "    acc = np.sum(preds==labelArr)/len(labelArr)\n",
    "    return acc"
   ]
  },
  {
   "cell_type": "markdown",
   "metadata": {},
   "source": [
    "## Build and compile the model"
   ]
  },
  {
   "cell_type": "code",
   "execution_count": 6,
   "metadata": {
    "scrolled": false
   },
   "outputs": [
    {
     "name": "stdout",
     "output_type": "stream",
     "text": [
      "_________________________________________________________________\n",
      "Layer (type)                 Output Shape              Param #   \n",
      "=================================================================\n",
      "input_3 (InputLayer)         (None, 128, 128, 1)       0         \n",
      "_________________________________________________________________\n",
      "conv2d_2 (Conv2D)            (None, 128, 128, 8)       80        \n",
      "_________________________________________________________________\n",
      "batch_normalization_2 (Batch (None, 128, 128, 8)       32        \n",
      "_________________________________________________________________\n",
      "flatten (Flatten)            (None, 131072)            0         \n",
      "_________________________________________________________________\n",
      "dense (Dense)                (None, 500)               65536500  \n",
      "_________________________________________________________________\n",
      "dense_1 (Dense)              (None, 500)               250500    \n",
      "_________________________________________________________________\n",
      "dense_2 (Dense)              (None, 5)                 2505      \n",
      "=================================================================\n",
      "Total params: 65,789,617\n",
      "Trainable params: 65,789,601\n",
      "Non-trainable params: 16\n",
      "_________________________________________________________________\n",
      "__________________________________________________________________________________________________\n",
      "Layer (type)                    Output Shape         Param #     Connected to                     \n",
      "==================================================================================================\n",
      "input_1 (InputLayer)            (None, 128, 128, 1)  0                                            \n",
      "__________________________________________________________________________________________________\n",
      "input_2 (InputLayer)            (None, 128, 128, 1)  0                                            \n",
      "__________________________________________________________________________________________________\n",
      "sister_network (Model)          (None, 5)            65789617    input_1[0][0]                    \n",
      "                                                                 input_2[0][0]                    \n",
      "__________________________________________________________________________________________________\n",
      "lambda (Lambda)                 (None, 1)            0           sister_network[1][0]             \n",
      "                                                                 sister_network[2][0]             \n",
      "==================================================================================================\n",
      "Total params: 65,789,617\n",
      "Trainable params: 65,789,601\n",
      "Non-trainable params: 16\n",
      "__________________________________________________________________________________________________\n",
      "None\n",
      "Compiling model...\n"
     ]
    }
   ],
   "source": [
    "# specify the shape of the inputs for our network\n",
    "IMG_SHAPE = (SZ, SZ, 1)\n",
    "# specify the batch size and number of epochs\n",
    "BATCH_SIZE = 16\n",
    "EPOCHS = 30\n",
    "\n",
    "imgA = Input(shape=IMG_SHAPE)\n",
    "imgB = Input(shape=IMG_SHAPE)\n",
    "featureExtractor = feature_extract(IMG_SHAPE)\n",
    "featureExtractor.summary()\n",
    "\n",
    "featsA = featureExtractor(imgA)\n",
    "featsB = featureExtractor(imgB)\n",
    "distance = Lambda(euclidean_distance)([featsA, featsB])\n",
    "    \n",
    "model = Model(inputs=[imgA, imgB], outputs=distance)\n",
    "\n",
    "print(model.summary())\n",
    "\n",
    "optm = Adam(lr=0.0005)\n",
    "\n",
    "print(\"Compiling model...\")\n",
    "model.compile(loss=contrastive_loss, optimizer=optm)"
   ]
  },
  {
   "cell_type": "markdown",
   "metadata": {},
   "source": [
    "## Training and testing"
   ]
  },
  {
   "cell_type": "code",
   "execution_count": 7,
   "metadata": {
    "scrolled": false
   },
   "outputs": [
    {
     "name": "stdout",
     "output_type": "stream",
     "text": [
      "Size of training data (320, 128, 128, 1) (320, 128, 128, 1)\n",
      "Size of testing data (80, 128, 128, 1) (80, 128, 128, 1)\n",
      "Train on 320 samples, validate on 80 samples\n",
      "Epoch 1/30\n",
      "320/320 [==============================] - 6s 18ms/step - loss: 23.1152 - val_loss: 9.7706\n",
      "Epoch 2/30\n",
      "320/320 [==============================] - 3s 8ms/step - loss: 6.6463 - val_loss: 8.8290\n",
      "Epoch 3/30\n",
      "320/320 [==============================] - 3s 8ms/step - loss: 2.4937 - val_loss: 9.0688\n",
      "Epoch 4/30\n",
      "320/320 [==============================] - 3s 8ms/step - loss: 0.6881 - val_loss: 8.6400\n",
      "Epoch 5/30\n",
      "320/320 [==============================] - 3s 8ms/step - loss: 0.1923 - val_loss: 8.0368\n",
      "Epoch 6/30\n",
      "320/320 [==============================] - 3s 8ms/step - loss: 0.0717 - val_loss: 7.5116\n",
      "Epoch 7/30\n",
      "320/320 [==============================] - 3s 8ms/step - loss: 0.0294 - val_loss: 6.8271\n",
      "Epoch 8/30\n",
      "320/320 [==============================] - 3s 8ms/step - loss: 0.0118 - val_loss: 6.1009\n",
      "Epoch 9/30\n",
      "320/320 [==============================] - 3s 8ms/step - loss: 0.0051 - val_loss: 5.2727\n",
      "Epoch 10/30\n",
      "320/320 [==============================] - 3s 8ms/step - loss: 0.0038 - val_loss: 4.4044\n",
      "Epoch 11/30\n",
      "320/320 [==============================] - 3s 8ms/step - loss: 0.0019 - val_loss: 3.5154\n",
      "Epoch 12/30\n",
      "320/320 [==============================] - 3s 8ms/step - loss: 0.0013 - val_loss: 2.6609\n",
      "Epoch 13/30\n",
      "320/320 [==============================] - 3s 8ms/step - loss: 8.4475e-04 - val_loss: 1.9197\n",
      "Epoch 14/30\n",
      "320/320 [==============================] - 3s 8ms/step - loss: 7.2167e-04 - val_loss: 1.2824\n",
      "Epoch 15/30\n",
      "320/320 [==============================] - 3s 8ms/step - loss: 7.7816e-04 - val_loss: 0.7834\n",
      "Epoch 16/30\n",
      "320/320 [==============================] - 3s 8ms/step - loss: 0.0011 - val_loss: 0.4346\n",
      "Epoch 17/30\n",
      "320/320 [==============================] - 3s 8ms/step - loss: 7.9912e-04 - val_loss: 0.2173\n",
      "Epoch 18/30\n",
      "320/320 [==============================] - 3s 8ms/step - loss: 6.5773e-04 - val_loss: 0.1016\n",
      "Epoch 19/30\n",
      "320/320 [==============================] - 3s 8ms/step - loss: 6.8027e-04 - val_loss: 0.0382\n",
      "Epoch 20/30\n",
      "320/320 [==============================] - 3s 8ms/step - loss: 7.7626e-04 - val_loss: 0.0216\n",
      "Epoch 21/30\n",
      "320/320 [==============================] - 3s 8ms/step - loss: 0.0010 - val_loss: 0.0059\n",
      "Epoch 22/30\n",
      "320/320 [==============================] - 3s 8ms/step - loss: 0.0023 - val_loss: 0.0105\n",
      "Epoch 23/30\n",
      "320/320 [==============================] - 3s 8ms/step - loss: 0.0035 - val_loss: 0.0026\n",
      "Epoch 24/30\n",
      "320/320 [==============================] - 3s 8ms/step - loss: 0.0040 - val_loss: 0.0038\n",
      "Epoch 25/30\n",
      "320/320 [==============================] - 3s 8ms/step - loss: 0.0065 - val_loss: 0.0047\n",
      "Epoch 26/30\n",
      "320/320 [==============================] - 3s 8ms/step - loss: 0.0065 - val_loss: 0.0070\n",
      "Epoch 27/30\n",
      "320/320 [==============================] - 3s 8ms/step - loss: 0.0127 - val_loss: 0.0265\n",
      "Epoch 28/30\n",
      "320/320 [==============================] - 3s 8ms/step - loss: 0.0297 - val_loss: 0.0435\n",
      "Epoch 29/30\n",
      "320/320 [==============================] - 3s 8ms/step - loss: 0.0353 - val_loss: 0.0313\n",
      "Epoch 30/30\n",
      "320/320 [==============================] - 3s 8ms/step - loss: 0.0352 - val_loss: 0.0330\n"
     ]
    }
   ],
   "source": [
    "#Train-test split : 80:20 ratio\n",
    "k = int(len(pairData)*0.80)\n",
    "imgArr0_train = pairData[:k,0]\n",
    "imgArr1_train = pairData[:k,1]\n",
    "label_train = labelData[:k]\n",
    "\n",
    "imgArr0_test = pairData[k:,0]\n",
    "imgArr1_test = pairData[k:,1]\n",
    "label_test = labelData[k:]\n",
    "\n",
    "print('Size of training data',imgArr0_train.shape,imgArr1_train.shape)\n",
    "print('Size of testing data',imgArr0_test.shape,imgArr1_test.shape)\n",
    "\n",
    "history = model.fit(\n",
    "    [imgArr0_train, imgArr1_train], label_train,\n",
    "    validation_data=([imgArr0_test, imgArr1_test], label_test) ,\n",
    "    batch_size=BATCH_SIZE, \n",
    "    epochs=EPOCHS)"
   ]
  },
  {
   "cell_type": "markdown",
   "metadata": {},
   "source": [
    "## Training statistics"
   ]
  },
  {
   "cell_type": "code",
   "execution_count": 8,
   "metadata": {
    "scrolled": false
   },
   "outputs": [
    {
     "name": "stdout",
     "output_type": "stream",
     "text": [
      "Final Training accuracy= 0.9875\n",
      "Final Validation accuracy= 1.0\n",
      "\n",
      "Training and validation losses...\n"
     ]
    },
    {
     "data": {
      "image/png": "[encoded data removed]",
      "text/plain": [
       "<Figure size 432x288 with 1 Axes>"
      ]
     },
     "metadata": {
      "needs_background": "light"
     },
     "output_type": "display_data"
    }
   ],
   "source": [
    "print('Final Training accuracy=',get_accuracy(model,imgArr0_train, imgArr1_train, label_train))\n",
    "print('Final Validation accuracy=',get_accuracy(model,imgArr0_test, imgArr1_test, label_test))\n",
    "print('\\nTraining and validation losses...')\n",
    "plt.plot(history.history['loss'])\n",
    "plt.plot(history.history['val_loss'])\n",
    "\n",
    "plt.show()"
   ]
  },
  {
   "cell_type": "markdown",
   "metadata": {},
   "source": [
    "## Plot 10 pairs of images and their dissimilarities."
   ]
  },
  {
   "cell_type": "code",
   "execution_count": 9,
   "metadata": {
    "scrolled": false
   },
   "outputs": [
    {
     "data": {
      "image/png": "[encoded data removed]",
      "text/plain": [
       "<Figure size 720x2880 with 20 Axes>"
      ]
     },
     "metadata": {
      "needs_background": "light"
     },
     "output_type": "display_data"
    }
   ],
   "source": [
    "fig, axs = plt.subplots(10, 2, figsize=(10,40)) #, sharex=True, sharey=True)\n",
    "\n",
    "A = imgArr0_test[:10]\n",
    "B = imgArr1_test[:10]\n",
    "\n",
    "distances = model.predict_on_batch([A,B])\n",
    "\n",
    "i = 0\n",
    "for img0, img1 in zip(A,B):\n",
    "    img0 = np.squeeze(img0)\n",
    "    img1 = np.squeeze(img1)\n",
    "    axs[i,0].imshow(img0,cmap='gray')\n",
    "    axs[i,1].imshow(img1,cmap='gray')\n",
    "    text = 'Dissm: {:.2f}'.format(float(distances[i]))\n",
    "    axs[i,0].text(140, 50, text) \n",
    "    i += 1"
   ]
  }
 ],
 "metadata": {
  "kernelspec": {
   "display_name": "Python 3",
   "language": "python",
   "name": "python3"
  },
  "language_info": {
   "codemirror_mode": {
    "name": "ipython",
    "version": 3
   },
   "file_extension": ".py",
   "mimetype": "text/x-python",
   "name": "python",
   "nbconvert_exporter": "python",
   "pygments_lexer": "ipython3",
   "version": "3.6.8"
  }
 },
 "nbformat": 4,
 "nbformat_minor": 2
}
