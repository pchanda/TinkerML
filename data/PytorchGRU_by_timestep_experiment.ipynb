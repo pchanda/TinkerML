{
 "cells": [
  {
   "cell_type": "code",
   "execution_count": 10,
   "id": "contemporary-beginning",
   "metadata": {},
   "outputs": [],
   "source": [
    "import torch\n",
    "from torch import nn\n",
    "import numpy as np"
   ]
  },
  {
   "cell_type": "markdown",
   "id": "appreciated-encyclopedia",
   "metadata": {},
   "source": [
    "Create a simple GRU layer using pytorch. Feed a tensor of shape `batch_size`x`num_steps`x`input_size` and \n",
    "observe the GRU output. Next feed the same input tensor one time-step at a time ensuring that the \n",
    "previous timestep hidden state becomes initial state for the current timestep. The outputs should be same."
   ]
  },
  {
   "cell_type": "code",
   "execution_count": 16,
   "id": "hired-alberta",
   "metadata": {},
   "outputs": [],
   "source": [
    "class SimpleGRU(nn.Module):\n",
    "    \n",
    "    def __init__(self, input_size, num_hiddens, num_layers=1):\n",
    "        \n",
    "        super(SimpleGRU, self).__init__()\n",
    "        self.rnn = nn.GRU(input_size, num_hiddens, num_layers, batch_first=True)\n",
    "        self.num_hiddens = num_hiddens\n",
    "        \n",
    "    def forward(self, X, hidden_state):\n",
    "        # Input X: (`batch_size`, `num_steps`, `input_size`)\n",
    "        # hidden state : (`num_layers`, `batch_size`, `num_hiddens`)  \n",
    "        output, state = self.rnn(X, hidden_state)      \n",
    "        # `output` shape: (`batch_size`, `num_steps`, `num_hiddens`)\n",
    "        # `state` shape:  (`num_layers`, `batch_size`, `num_hiddens`)\n",
    "        return output, state\n",
    "    \n",
    "    \n",
    "def init_weights(m):\n",
    "    #initialize biases and weights\n",
    "    for name, param in m.named_parameters():\n",
    "        if 'bias' in name:\n",
    "            nn.init.constant(param, 0.0)\n",
    "        elif 'weight' in name:\n",
    "            nn.init.constant(m._parameters[name],0.5)"
   ]
  },
  {
   "cell_type": "code",
   "execution_count": 17,
   "id": "electric-camera",
   "metadata": {},
   "outputs": [
    {
     "data": {
      "text/plain": [
       "SimpleGRU(\n",
       "  (rnn): GRU(3, 4, batch_first=True)\n",
       ")"
      ]
     },
     "execution_count": 17,
     "metadata": {},
     "output_type": "execute_result"
    }
   ],
   "source": [
    "batch_size = 2\n",
    "input_size = 3\n",
    "num_hiddens = 4\n",
    "num_steps = 5\n",
    "\n",
    "gru = SimpleGRU(input_size, num_hiddens)\n",
    "gru.eval()"
   ]
  },
  {
   "cell_type": "code",
   "execution_count": 49,
   "id": "critical-surgeon",
   "metadata": {},
   "outputs": [
    {
     "name": "stdout",
     "output_type": "stream",
     "text": [
      "Input data shape torch.Size([2, 5, 3])\n"
     ]
    }
   ],
   "source": [
    "X = np.array( [ [ [1,1,1],[2,2,2],[3,3,3],[4,4,4],[5,5,5] ] , [ [5,5,5], [4,4,4], [3,3,3], [2,2,2], [1,1,1] ] ] )\n",
    "X_t = torch.from_numpy(X).float()\n",
    "print('Input data shape',X_t.shape)\n",
    "weight = next(gru.parameters()).data"
   ]
  },
  {
   "cell_type": "markdown",
   "id": "polished-mixture",
   "metadata": {},
   "source": [
    "## Feed the Input tensor (batch_size x num_steps x input_size) to the rnn"
   ]
  },
  {
   "cell_type": "code",
   "execution_count": 50,
   "id": "centered-catholic",
   "metadata": {},
   "outputs": [
    {
     "name": "stdout",
     "output_type": "stream",
     "text": [
      "\n",
      "Output\n",
      "tensor([[[-0.2491,  0.2479,  0.0823, -0.4551],\n",
      "         [-0.0281,  0.0319,  0.0572, -0.5499]],\n",
      "\n",
      "        [[-0.3922,  0.3499,  0.1561, -0.7259],\n",
      "         [-0.0770,  0.0814,  0.1185, -0.7706]],\n",
      "\n",
      "        [[-0.4632,  0.3994,  0.2157, -0.8596],\n",
      "         [-0.1636,  0.1619,  0.1781, -0.8770]],\n",
      "\n",
      "        [[-0.4985,  0.4244,  0.2613, -0.9263],\n",
      "         [-0.3064,  0.2687,  0.2214, -0.9217]],\n",
      "\n",
      "        [[-0.5163,  0.4368,  0.2947, -0.9605],\n",
      "         [-0.4597,  0.3370,  0.2271, -0.8697]]], grad_fn=<PermuteBackward>)\n"
     ]
    }
   ],
   "source": [
    "h_0 = weight.new(1, batch_size, num_hiddens).zero_()\n",
    "output, state = gru(X_t , h_0)\n",
    "\n",
    "print('\\nOutput')\n",
    "#Permute to put timestep as the first dimension\n",
    "output = output.permute(1,0,2)\n",
    "print(output)"
   ]
  },
  {
   "cell_type": "markdown",
   "id": "packed-employee",
   "metadata": {},
   "source": [
    "## Now feed the inputs to the rnn one timestep at a time. The output should be same at each time step"
   ]
  },
  {
   "cell_type": "code",
   "execution_count": 51,
   "id": "terminal-receptor",
   "metadata": {},
   "outputs": [
    {
     "name": "stdout",
     "output_type": "stream",
     "text": [
      "Output\n",
      "tensor([[[-0.2491,  0.2479,  0.0823, -0.4551]],\n",
      "\n",
      "        [[-0.0281,  0.0319,  0.0572, -0.5499]]], grad_fn=<TransposeBackward1>)\n",
      "tensor([[[-0.3922,  0.3499,  0.1561, -0.7259]],\n",
      "\n",
      "        [[-0.0770,  0.0814,  0.1185, -0.7706]]], grad_fn=<TransposeBackward1>)\n",
      "tensor([[[-0.4632,  0.3994,  0.2157, -0.8596]],\n",
      "\n",
      "        [[-0.1636,  0.1619,  0.1781, -0.8770]]], grad_fn=<TransposeBackward1>)\n",
      "tensor([[[-0.4985,  0.4244,  0.2613, -0.9263]],\n",
      "\n",
      "        [[-0.3064,  0.2687,  0.2214, -0.9217]]], grad_fn=<TransposeBackward1>)\n",
      "tensor([[[-0.5163,  0.4368,  0.2947, -0.9605]],\n",
      "\n",
      "        [[-0.4597,  0.3370,  0.2271, -0.8697]]], grad_fn=<TransposeBackward1>)\n"
     ]
    }
   ],
   "source": [
    "#Now feed the inputs to the rnn one timestep at a time. \n",
    "print('Output')\n",
    "h_st = weight.new(1, batch_size, num_hiddens).zero_()\n",
    "for timestep in range(num_steps):\n",
    "    X_in = X_t[:,timestep,:].view(batch_size,1,input_size)\n",
    "    #Previous timestep hidden state becomes initial state for this timestep\n",
    "    op, h_st = gru(X_in , h_st)\n",
    "    print(op)\n"
   ]
  }
 ],
 "metadata": {
  "kernelspec": {
   "display_name": "Python 3",
   "language": "python",
   "name": "python3"
  },
  "language_info": {
   "codemirror_mode": {
    "name": "ipython",
    "version": 3
   },
   "file_extension": ".py",
   "mimetype": "text/x-python",
   "name": "python",
   "nbconvert_exporter": "python",
   "pygments_lexer": "ipython3",
   "version": "3.6.9"
  }
 },
 "nbformat": 4,
 "nbformat_minor": 5
}
